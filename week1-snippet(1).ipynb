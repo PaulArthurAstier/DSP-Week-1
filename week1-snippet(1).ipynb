{
 "cells": [
  {
   "cell_type": "code",
   "execution_count": null,
   "metadata": {},
   "outputs": [],
   "source": [
    "%matplotlib notebook\n",
    "# The above is a 'magic line' and enables various UI controls for plots\n",
    "# it must be apear on the first line of a Jupyter notebook for it to work\n",
    "\n",
    "# It is neat to place all import at the top of your notebook\n",
    "import numpy as np\n",
    "import matplotlib.pyplot as plt"
   ]
  },
  {
   "cell_type": "markdown",
   "metadata": {},
   "source": [
    "# Cell types can also be Markdown\n",
    "Here you can make notes using [markdown formatting](https://guides.github.com/features/mastering-markdown/)\n",
    "\n",
    "LaTeX style fomulas are also possible:\n",
    "\n",
    "$$\n",
    "e^x=\\sum_{i=0}^\\infty \\frac{1}{i!}x^i\n",
    "$$"
   ]
  },
  {
   "cell_type": "code",
   "execution_count": null,
   "metadata": {},
   "outputs": [],
   "source": [
    "# Sample frequency\n",
    "fs = 2000\n",
    "dt = 1/fs #stepsize\n",
    "number_of_samples = 10*fs\n",
    "# 10 seconds sampled at fs\n",
    "t = dt*np.arange(0,number_of_samples)\n",
    "# Time domain signal\n",
    "y = 3 + 2*np.sin(2*np.pi*200*t) -4*np.cos(2*np.pi*500*t)"
   ]
  },
  {
   "cell_type": "code",
   "execution_count": null,
   "metadata": {},
   "outputs": [],
   "source": [
    "# Debugging\n",
    "\n",
    "# Prints the dimensions of a NumPy array\n",
    "print(y.shape)"
   ]
  },
  {
   "cell_type": "code",
   "execution_count": null,
   "metadata": {},
   "outputs": [],
   "source": [
    "# Plotting\n",
    "plt.figure()\n",
    "\n",
    "plt.plot(t, y)\n",
    "plt.xlim([0, 0.05])\n",
    "plt.xlabel('time (s)')\n",
    "plt.ylabel('y(t)')"
   ]
  }
 ],
 "metadata": {
  "kernelspec": {
   "display_name": "Python 3",
   "language": "python",
   "name": "python3"
  },
  "language_info": {
   "codemirror_mode": {
    "name": "ipython",
    "version": 3
   },
   "file_extension": ".py",
   "mimetype": "text/x-python",
   "name": "python",
   "nbconvert_exporter": "python",
   "pygments_lexer": "ipython3",
   "version": "3.8.5"
  }
 },
 "nbformat": 4,
 "nbformat_minor": 2
}
